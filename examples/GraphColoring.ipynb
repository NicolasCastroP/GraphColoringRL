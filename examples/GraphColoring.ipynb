{
 "cells": [
  {
   "cell_type": "code",
   "execution_count": 1,
   "id": "77d5a191",
   "metadata": {},
   "outputs": [],
   "source": [
    "%load_ext autoreload\n",
    "import sys\n",
    "sys.path.append('../src')"
   ]
  },
  {
   "cell_type": "code",
   "execution_count": 2,
   "id": "eecc2bc7",
   "metadata": {},
   "outputs": [],
   "source": [
    "%autoreload 2\n",
    "from graph_coloring import *\n",
    "from dashboard_GC import *"
   ]
  },
  {
   "cell_type": "markdown",
   "id": "4d5a9df5",
   "metadata": {},
   "source": [
    "# RL Graph Coloring"
   ]
  },
  {
   "cell_type": "markdown",
   "id": "c48e3839",
   "metadata": {},
   "source": [
    "## The Graph Generation"
   ]
  },
  {
   "cell_type": "code",
   "execution_count": 3,
   "id": "932e9bbf",
   "metadata": {},
   "outputs": [],
   "source": [
    "gg = GraphGeneration()"
   ]
  },
  {
   "cell_type": "code",
   "execution_count": 4,
   "id": "0305ddf3",
   "metadata": {
    "scrolled": false
   },
   "outputs": [
    {
     "data": {
      "application/vnd.jupyter.widget-view+json": {
       "model_id": "ad06d707e5484e6e8559c2e3e4bb09be",
       "version_major": 2,
       "version_minor": 0
      },
      "text/plain": [
       "VBox(children=(HBox(children=(IntSlider(value=10, description='# Nodes', min=10), IntSlider(value=7, descripti…"
      ]
     },
     "metadata": {},
     "output_type": "display_data"
    }
   ],
   "source": [
    "gg.display()"
   ]
  },
  {
   "cell_type": "markdown",
   "id": "9b31fe16",
   "metadata": {},
   "source": [
    "## The Complement Graph"
   ]
  },
  {
   "cell_type": "code",
   "execution_count": 5,
   "id": "9cd11dae",
   "metadata": {},
   "outputs": [],
   "source": [
    "cg = ComplementGraph(gg)"
   ]
  },
  {
   "cell_type": "code",
   "execution_count": 6,
   "id": "64795d01",
   "metadata": {
    "scrolled": false
   },
   "outputs": [
    {
     "data": {
      "application/vnd.jupyter.widget-view+json": {
       "model_id": "277f45a99f684663b4f4256e36661a65",
       "version_major": 2,
       "version_minor": 0
      },
      "text/plain": [
       "VBox(children=(HBox(children=(Dropdown(description='Select Node:', options=(0, 1, 2, 3, 4, 5, 6, 7, 8, 9), val…"
      ]
     },
     "metadata": {},
     "output_type": "display_data"
    }
   ],
   "source": [
    "cg.display()"
   ]
  },
  {
   "cell_type": "markdown",
   "id": "6ded5290",
   "metadata": {},
   "source": [
    "## Rolout with Lower bounds"
   ]
  },
  {
   "cell_type": "code",
   "execution_count": 7,
   "id": "2e2ee0f7",
   "metadata": {},
   "outputs": [],
   "source": [
    "ro = RolloutGUI(cg)"
   ]
  },
  {
   "cell_type": "code",
   "execution_count": 8,
   "id": "47bbde37",
   "metadata": {
    "scrolled": false
   },
   "outputs": [
    {
     "data": {
      "application/vnd.jupyter.widget-view+json": {
       "model_id": "0b39655900124de39dfa222c369ab93c",
       "version_major": 2,
       "version_minor": 0
      },
      "text/plain": [
       "VBox(children=(HBox(children=(Dropdown(options=('Rollout LB', 'Random Rollout LB'), value='Rollout LB'), Dropd…"
      ]
     },
     "metadata": {},
     "output_type": "display_data"
    }
   ],
   "source": [
    "logging.getLogger('matplotlib.font_manager').disabled = True\n",
    "ro.display()"
   ]
  },
  {
   "cell_type": "code",
   "execution_count": null,
   "id": "d3e034a0",
   "metadata": {},
   "outputs": [],
   "source": []
  }
 ],
 "metadata": {
  "kernelspec": {
   "display_name": "RL38",
   "language": "python",
   "name": "rl38"
  },
  "language_info": {
   "codemirror_mode": {
    "name": "ipython",
    "version": 3
   },
   "file_extension": ".py",
   "mimetype": "text/x-python",
   "name": "python",
   "nbconvert_exporter": "python",
   "pygments_lexer": "ipython3",
   "version": "3.8.2"
  },
  "latex_envs": {
   "LaTeX_envs_menu_present": true,
   "autoclose": false,
   "autocomplete": true,
   "bibliofile": "biblio.bib",
   "cite_by": "apalike",
   "current_citInitial": 1,
   "eqLabelWithNumbers": true,
   "eqNumInitial": 1,
   "hotkeys": {
    "equation": "Ctrl-E",
    "itemize": "Ctrl-I"
   },
   "labels_anchors": false,
   "latex_user_defs": false,
   "report_style_numbering": false,
   "user_envs_cfg": false
  }
 },
 "nbformat": 4,
 "nbformat_minor": 5
}
